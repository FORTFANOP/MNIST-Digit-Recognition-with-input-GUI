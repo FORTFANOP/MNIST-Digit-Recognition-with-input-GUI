{
  "nbformat": 4,
  "nbformat_minor": 0,
  "metadata": {
    "colab": {
      "name": "Deep_learning_mnistdigits_simpler_version.ipynb",
      "provenance": [],
      "collapsed_sections": []
    },
    "kernelspec": {
      "name": "python3",
      "display_name": "Python 3"
    },
    "accelerator": "GPU"
  },
  "cells": [
    {
      "cell_type": "code",
      "metadata": {
        "id": "iReDmrpC4eMA"
      },
      "source": [
        "# A simpler version of the actual tensorflow version of image number classification"
      ],
      "execution_count": null,
      "outputs": []
    },
    {
      "cell_type": "code",
      "metadata": {
        "id": "n2nsv2ty5kco"
      },
      "source": [
        "#%tensorflow_version 1.x  # this line is not required unless you are in a notebook"
      ],
      "execution_count": null,
      "outputs": []
    },
    {
      "cell_type": "code",
      "metadata": {
        "id": "2ntmLuKQ69ZU",
        "colab": {
          "base_uri": "https://localhost:8080/",
          "height": 136
        },
        "outputId": "daefa065-e137-4ec9-eb5a-131264e57ee4"
      },
      "source": [
        "!pip install matplotlib"
      ],
      "execution_count": null,
      "outputs": [
        {
          "output_type": "stream",
          "text": [
            "Requirement already satisfied: matplotlib in /usr/local/lib/python3.6/dist-packages (3.2.2)\n",
            "Requirement already satisfied: kiwisolver>=1.0.1 in /usr/local/lib/python3.6/dist-packages (from matplotlib) (1.2.0)\n",
            "Requirement already satisfied: pyparsing!=2.0.4,!=2.1.2,!=2.1.6,>=2.0.1 in /usr/local/lib/python3.6/dist-packages (from matplotlib) (2.4.7)\n",
            "Requirement already satisfied: python-dateutil>=2.1 in /usr/local/lib/python3.6/dist-packages (from matplotlib) (2.8.1)\n",
            "Requirement already satisfied: cycler>=0.10 in /usr/local/lib/python3.6/dist-packages (from matplotlib) (0.10.0)\n",
            "Requirement already satisfied: numpy>=1.11 in /usr/local/lib/python3.6/dist-packages (from matplotlib) (1.18.5)\n",
            "Requirement already satisfied: six>=1.5 in /usr/local/lib/python3.6/dist-packages (from python-dateutil>=2.1->matplotlib) (1.15.0)\n"
          ],
          "name": "stdout"
        }
      ]
    },
    {
      "cell_type": "code",
      "metadata": {
        "id": "if7PcEWdDUrd"
      },
      "source": [
        "import tensorflow as tf\n",
        "import logging\n",
        "logger = tf.get_logger()\n",
        "logger.setLevel(logging.ERROR)"
      ],
      "execution_count": null,
      "outputs": []
    },
    {
      "cell_type": "code",
      "metadata": {
        "id": "DDN3LA9kEs8h"
      },
      "source": [
        "import math"
      ],
      "execution_count": null,
      "outputs": []
    },
    {
      "cell_type": "code",
      "metadata": {
        "id": "m8Zpo-e36HYY",
        "colab": {
          "base_uri": "https://localhost:8080/",
          "height": 51
        },
        "outputId": "0b469faa-d6b5-43ad-a89c-8f7e2bdc8d5d"
      },
      "source": [
        "import tensorflow as tf\n",
        "\n",
        "mnist = tf.keras.datasets.mnist # 28x28 resolution images of handwritten digits 0-9\n",
        "\n",
        "# Unpacking the data into variables x_train, x_test, y_train and y_test\n",
        "(x_train, y_train), (x_test, y_test) = mnist.load_data()\n",
        "\n",
        "import matplotlib.pyplot as plt"
      ],
      "execution_count": null,
      "outputs": [
        {
          "output_type": "stream",
          "text": [
            "Downloading data from https://storage.googleapis.com/tensorflow/tf-keras-datasets/mnist.npz\n",
            "11493376/11490434 [==============================] - 0s 0us/step\n"
          ],
          "name": "stdout"
        }
      ]
    },
    {
      "cell_type": "code",
      "metadata": {
        "id": "zwvTuS8k7VFB",
        "colab": {
          "base_uri": "https://localhost:8080/",
          "height": 265
        },
        "outputId": "f1336ab4-9d1a-407d-a83a-768140ebf465"
      },
      "source": [
        "plt.imshow(x_train[0], cmap = plt.cm.binary)\n",
        "plt.show()"
      ],
      "execution_count": null,
      "outputs": [
        {
          "output_type": "display_data",
          "data": {
            "image/png": "[encoded data removed]",
            "text/plain": [
              "<Figure size 432x288 with 1 Axes>"
            ]
          },
          "metadata": {
            "tags": [],
            "needs_background": "light"
          }
        }
      ]
    },
    {
      "cell_type": "code",
      "metadata": {
        "id": "x4q4_Roj7dWz",
        "colab": {
          "base_uri": "https://localhost:8080/",
          "height": 986
        },
        "outputId": "59062bcd-af83-443f-e2c4-fd6fc70d53a3"
      },
      "source": [
        "# Normalize the data. This means that we have to fit the pixel value data to data between 0 and 1 or -1 and 1\n",
        "print(\"This is the original value of the first image's data:\\n\", x_train[0])"
      ],
      "execution_count": null,
      "outputs": [
        {
          "output_type": "stream",
          "text": [
            "This is the original value of the first image's data:\n",
            " [[  0   0   0   0   0   0   0   0   0   0   0   0   0   0   0   0   0   0\n",
            "    0   0   0   0   0   0   0   0   0   0]\n",
            " [  0   0   0   0   0   0   0   0   0   0   0   0   0   0   0   0   0   0\n",
            "    0   0   0   0   0   0   0   0   0   0]\n",
            " [  0   0   0   0   0   0   0   0   0   0   0   0   0   0   0   0   0   0\n",
            "    0   0   0   0   0   0   0   0   0   0]\n",
            " [  0   0   0   0   0   0   0   0   0   0   0   0   0   0   0   0   0   0\n",
            "    0   0   0   0   0   0   0   0   0   0]\n",
            " [  0   0   0   0   0   0   0   0   0   0   0   0   0   0   0   0   0   0\n",
            "    0   0   0   0   0   0   0   0   0   0]\n",
            " [  0   0   0   0   0   0   0   0   0   0   0   0   3  18  18  18 126 136\n",
            "  175  26 166 255 247 127   0   0   0   0]\n",
            " [  0   0   0   0   0   0   0   0  30  36  94 154 170 253 253 253 253 253\n",
            "  225 172 253 242 195  64   0   0   0   0]\n",
            " [  0   0   0   0   0   0   0  49 238 253 253 253 253 253 253 253 253 251\n",
            "   93  82  82  56  39   0   0   0   0   0]\n",
            " [  0   0   0   0   0   0   0  18 219 253 253 253 253 253 198 182 247 241\n",
            "    0   0   0   0   0   0   0   0   0   0]\n",
            " [  0   0   0   0   0   0   0   0  80 156 107 253 253 205  11   0  43 154\n",
            "    0   0   0   0   0   0   0   0   0   0]\n",
            " [  0   0   0   0   0   0   0   0   0  14   1 154 253  90   0   0   0   0\n",
            "    0   0   0   0   0   0   0   0   0   0]\n",
            " [  0   0   0   0   0   0   0   0   0   0   0 139 253 190   2   0   0   0\n",
            "    0   0   0   0   0   0   0   0   0   0]\n",
            " [  0   0   0   0   0   0   0   0   0   0   0  11 190 253  70   0   0   0\n",
            "    0   0   0   0   0   0   0   0   0   0]\n",
            " [  0   0   0   0   0   0   0   0   0   0   0   0  35 241 225 160 108   1\n",
            "    0   0   0   0   0   0   0   0   0   0]\n",
            " [  0   0   0   0   0   0   0   0   0   0   0   0   0  81 240 253 253 119\n",
            "   25   0   0   0   0   0   0   0   0   0]\n",
            " [  0   0   0   0   0   0   0   0   0   0   0   0   0   0  45 186 253 253\n",
            "  150  27   0   0   0   0   0   0   0   0]\n",
            " [  0   0   0   0   0   0   0   0   0   0   0   0   0   0   0  16  93 252\n",
            "  253 187   0   0   0   0   0   0   0   0]\n",
            " [  0   0   0   0   0   0   0   0   0   0   0   0   0   0   0   0   0 249\n",
            "  253 249  64   0   0   0   0   0   0   0]\n",
            " [  0   0   0   0   0   0   0   0   0   0   0   0   0   0  46 130 183 253\n",
            "  253 207   2   0   0   0   0   0   0   0]\n",
            " [  0   0   0   0   0   0   0   0   0   0   0   0  39 148 229 253 253 253\n",
            "  250 182   0   0   0   0   0   0   0   0]\n",
            " [  0   0   0   0   0   0   0   0   0   0  24 114 221 253 253 253 253 201\n",
            "   78   0   0   0   0   0   0   0   0   0]\n",
            " [  0   0   0   0   0   0   0   0  23  66 213 253 253 253 253 198  81   2\n",
            "    0   0   0   0   0   0   0   0   0   0]\n",
            " [  0   0   0   0   0   0  18 171 219 253 253 253 253 195  80   9   0   0\n",
            "    0   0   0   0   0   0   0   0   0   0]\n",
            " [  0   0   0   0  55 172 226 253 253 253 253 244 133  11   0   0   0   0\n",
            "    0   0   0   0   0   0   0   0   0   0]\n",
            " [  0   0   0   0 136 253 253 253 212 135 132  16   0   0   0   0   0   0\n",
            "    0   0   0   0   0   0   0   0   0   0]\n",
            " [  0   0   0   0   0   0   0   0   0   0   0   0   0   0   0   0   0   0\n",
            "    0   0   0   0   0   0   0   0   0   0]\n",
            " [  0   0   0   0   0   0   0   0   0   0   0   0   0   0   0   0   0   0\n",
            "    0   0   0   0   0   0   0   0   0   0]\n",
            " [  0   0   0   0   0   0   0   0   0   0   0   0   0   0   0   0   0   0\n",
            "    0   0   0   0   0   0   0   0   0   0]]\n"
          ],
          "name": "stdout"
        }
      ]
    },
    {
      "cell_type": "code",
      "metadata": {
        "id": "RdNXX5Tn838F",
        "colab": {
          "base_uri": "https://localhost:8080/",
          "height": 265
        },
        "outputId": "204a16bf-513d-40ad-bba1-acd90720710e"
      },
      "source": [
        "# Normalize\n",
        "x_train = tf.keras.utils.normalize(x_train, axis=1)\n",
        "x_test = tf.keras.utils.normalize(x_test, axis=1)\n",
        "\n",
        "# Plotting the new values\n",
        "plt.imshow(x_train[0], cmap = plt.cm.binary)\n",
        "plt.show()"
      ],
      "execution_count": null,
      "outputs": [
        {
          "output_type": "display_data",
          "data": {
            "image/png": "[encoded data removed]",
            "text/plain": [
              "<Figure size 432x288 with 1 Axes>"
            ]
          },
          "metadata": {
            "tags": [],
            "needs_background": "light"
          }
        }
      ]
    },
    {
      "cell_type": "code",
      "metadata": {
        "id": "-MRf3FYg_Mkv"
      },
      "source": [
        "# Convolutional Neural Network\n",
        "conv_model = tf.keras.Sequential([\n",
        "    tf.keras.layers.Conv2D(32, (3,3), padding='same', activation=tf.nn.relu,\n",
        "                           input_shape=(28, 28, 1)),\n",
        "    tf.keras.layers.MaxPooling2D((2, 2), strides=2),\n",
        "    tf.keras.layers.Conv2D(64, (3,3), padding='same', activation=tf.nn.relu),\n",
        "    tf.keras.layers.MaxPooling2D((2, 2), strides=2),\n",
        "    tf.keras.layers.Flatten(),\n",
        "    tf.keras.layers.Dense(128, activation=tf.nn.relu),\n",
        "    tf.keras.layers.Dense(10, activation=tf.nn.softmax)\n",
        "])\n",
        "\n",
        "# Compiling the model\n",
        "conv_model.compile(optimizer='adam',\n",
        "                   loss=tf.keras.losses.SparseCategoricalCrossentropy(),\n",
        "                   metrics=['accuracy'])"
      ],
      "execution_count": null,
      "outputs": []
    },
    {
      "cell_type": "code",
      "metadata": {
        "id": "B8O8zoQxBZx7"
      },
      "source": [
        "# # Training the model\n",
        "# BATCH_SIZE = 32\n",
        "# train_dataset = train_dataset.cache().repeat().shuffle(num_train_examples).batch(BATCH_SIZE)\n",
        "# test_dataset = test_dataset.cache().batch(BATCH_SIZE)\n",
        "\n",
        "# conv_model.fit( , epochs=10, steps_per_epoch=math.ceil(num_train_examples/BATCH_SIZE))"
      ],
      "execution_count": null,
      "outputs": []
    },
    {
      "cell_type": "code",
      "metadata": {
        "id": "3psk2e7c9Tvm",
        "colab": {
          "base_uri": "https://localhost:8080/",
          "height": 238
        },
        "outputId": "0431f444-b797-45fb-8f3a-e5b1eed7b89a"
      },
      "source": [
        "# Defining the model\n",
        "model = tf.keras.models.Sequential() # Feed forward model\n",
        "model.add(tf.keras.layers.Flatten(input_shape=(28, 28))) # Flattening the image. This means that we are converting the shape of [28, 28] to [1, 784] so that the neural network can work more efficiently\n",
        "model.add(tf.keras.layers.Dense(128, activation=tf.nn.relu)) # Hidden layer 1 is densely connected. So \"Dense\". Also, this has 128 neurons or units\n",
        "model.add(tf.keras.layers.Dense(128, activation=tf.nn.relu)) # Hidden layer 2\n",
        "model.add(tf.keras.layers.Dense(10, activation=tf.nn.softmax)) # Output layer with 10 neurons. Why 10? Because we have 10 handwritten digits to classify\n",
        "# Why softmax activation function for the last layer??\n",
        "# Because the output is going to have a distribution of probabilities of each \n",
        "# digit. So, for probability distribution, we have to use softmax activation\n",
        "# function\n",
        "\n",
        "# Thats it! Defining the model is done! So much simpler than using the actual \n",
        "# tensorflow coding from scratch!!!\n",
        "model.compile(optimizer='adam',\n",
        "              loss='sparse_categorical_crossentropy',\n",
        "              metrics=['accuracy'])\n",
        "\n",
        "# Training the neural network\n",
        "model.fit(x_train, y_train, epochs=6)"
      ],
      "execution_count": null,
      "outputs": [
        {
          "output_type": "stream",
          "text": [
            "Epoch 1/6\n",
            "1875/1875 [==============================] - 3s 2ms/step - loss: 0.2640 - accuracy: 0.9230\n",
            "Epoch 2/6\n",
            "1875/1875 [==============================] - 3s 2ms/step - loss: 0.1070 - accuracy: 0.9672\n",
            "Epoch 3/6\n",
            "1875/1875 [==============================] - 3s 2ms/step - loss: 0.0742 - accuracy: 0.9769\n",
            "Epoch 4/6\n",
            "1875/1875 [==============================] - 3s 2ms/step - loss: 0.0543 - accuracy: 0.9824\n",
            "Epoch 5/6\n",
            "1875/1875 [==============================] - 3s 2ms/step - loss: 0.0413 - accuracy: 0.9863\n",
            "Epoch 6/6\n",
            "1875/1875 [==============================] - 3s 2ms/step - loss: 0.0337 - accuracy: 0.9892\n"
          ],
          "name": "stdout"
        },
        {
          "output_type": "execute_result",
          "data": {
            "text/plain": [
              "<tensorflow.python.keras.callbacks.History at 0x7fbe33b2e6d8>"
            ]
          },
          "metadata": {
            "tags": []
          },
          "execution_count": 12
        }
      ]
    },
    {
      "cell_type": "code",
      "metadata": {
        "id": "Iem5TGzoQkDF",
        "colab": {
          "base_uri": "https://localhost:8080/",
          "height": 51
        },
        "outputId": "a90e7671-0e2d-479f-85df-9b414a7e52be"
      },
      "source": [
        "# Did we overfit??\n",
        "# Let's check it.\n",
        "val_loss, val_acc = model.evaluate(x_test, y_test)\n",
        "print(val_loss, val_acc)"
      ],
      "execution_count": null,
      "outputs": [
        {
          "output_type": "stream",
          "text": [
            "313/313 [==============================] - 1s 2ms/step - loss: 0.0962 - accuracy: 0.9716\n",
            "0.09615099430084229 0.9715999960899353\n"
          ],
          "name": "stdout"
        }
      ]
    },
    {
      "cell_type": "code",
      "metadata": {
        "id": "7OmmpI7waHoS"
      },
      "source": [
        "# Saving the model\n",
        "model.save('epic_num_classifier.model')"
      ],
      "execution_count": null,
      "outputs": []
    },
    {
      "cell_type": "code",
      "metadata": {
        "id": "yI7CBCl4aN3Y"
      },
      "source": [
        "# Reloading the model\n",
        "new_model = tf.keras.models.load_model('epic_num_classifier.model')"
      ],
      "execution_count": null,
      "outputs": []
    },
    {
      "cell_type": "code",
      "metadata": {
        "id": "RKPOY6QyaW3_"
      },
      "source": [
        "# Making predictions\n",
        "predictions = model.predict([x_test]) # Note that the argument passed into the .predict() function is ALWAYS a list. So put it b/w []"
      ],
      "execution_count": null,
      "outputs": []
    },
    {
      "cell_type": "code",
      "metadata": {
        "id": "8nVzTjZzati7",
        "colab": {
          "base_uri": "https://localhost:8080/",
          "height": 238
        },
        "outputId": "0089fe0f-493e-462f-e224-4052bec7a6c1"
      },
      "source": [
        "print(predictions)"
      ],
      "execution_count": null,
      "outputs": [
        {
          "output_type": "stream",
          "text": [
            "[[1.8414874e-10 1.9187997e-10 2.9803007e-07 ... 9.9999440e-01\n",
            "  9.1014396e-09 7.0402882e-07]\n",
            " [1.6233281e-10 1.5015932e-07 9.9999988e-01 ... 1.4522224e-10\n",
            "  1.4131077e-10 5.8044091e-14]\n",
            " [1.3961479e-09 9.9991643e-01 1.1241942e-06 ... 6.0357324e-06\n",
            "  7.3840456e-05 1.9383208e-07]\n",
            " ...\n",
            " [9.8563943e-12 1.0798916e-08 2.5597566e-10 ... 9.8435457e-08\n",
            "  2.4867836e-08 1.2259543e-06]\n",
            " [1.2539902e-10 3.8531338e-11 9.1586660e-12 ... 1.0245609e-10\n",
            "  1.2892675e-04 1.3501736e-13]\n",
            " [2.7231035e-09 1.1084289e-09 7.7678641e-10 ... 4.6353806e-13\n",
            "  8.4537444e-09 1.7664786e-11]]\n"
          ],
          "name": "stdout"
        }
      ]
    },
    {
      "cell_type": "code",
      "metadata": {
        "id": "-RizmFw7awcu",
        "colab": {
          "base_uri": "https://localhost:8080/",
          "height": 298
        },
        "outputId": "8e7aba93-78de-46ae-e64d-63df93211643"
      },
      "source": [
        "# Too messy?\n",
        "# The output in the previous code block was all one hot arrays. Meaning it gave a confidence of what it thought bout each digit\n",
        "# Basically, they are probability distributions\n",
        "import numpy as np\n",
        "\n",
        "#data_number = 16\n",
        "plt.imshow(x_test[0], cmap = plt.cm.binary)\n",
        "plt.title(\"Actual Digit\")\n",
        "plt.show()\n",
        "print(\"I think thats a: \", np.argmax(predictions[0])) # The prediction of the first data type"
      ],
      "execution_count": null,
      "outputs": [
        {
          "output_type": "display_data",
          "data": {
            "image/png": "[encoded data removed]",
            "text/plain": [
              "<Figure size 432x288 with 1 Axes>"
            ]
          },
          "metadata": {
            "tags": [],
            "needs_background": "light"
          }
        },
        {
          "output_type": "stream",
          "text": [
            "I think thats a:  7\n"
          ],
          "name": "stdout"
        }
      ]
    },
    {
      "cell_type": "code",
      "metadata": {
        "id": "u3aOD_Q1qCC7"
      },
      "source": [
        "# Code from https://gist.github.com/korakot/8409b3feec20f159d8a50b0a811d3bca\n",
        "# from IPython.display import HTML, Image\n",
        "# from google.colab.output import eval_js\n",
        "# from base64 import b64decode\n",
        "\n",
        "# canvas_html = \"\"\"\n",
        "# <canvas width=%d height=%d></canvas>\n",
        "# <button>Finish</button>\n",
        "# <script>\n",
        "# var canvas = document.querySelector('canvas')\n",
        "# var ctx = canvas.getContext('2d')\n",
        "# ctx.lineWidth = %d\n",
        "# var button = document.querySelector('button')\n",
        "# var mouse = {x: 0, y: 0}\n",
        "# canvas.addEventListener('mousemove', function(e) {\n",
        "#   mouse.x = e.pageX - this.offsetLeft\n",
        "#   mouse.y = e.pageY - this.offsetTop\n",
        "# })\n",
        "# canvas.onmousedown = ()=>{\n",
        "#   ctx.beginPath()\n",
        "#   ctx.moveTo(mouse.x, mouse.y)\n",
        "#   canvas.addEventListener('mousemove', onPaint)\n",
        "# }\n",
        "# canvas.onmouseup = ()=>{\n",
        "#   canvas.removeEventListener('mousemove', onPaint)\n",
        "# }\n",
        "# var onPaint = ()=>{\n",
        "#   ctx.lineTo(mouse.x, mouse.y)\n",
        "#   ctx.stroke()\n",
        "# }\n",
        "# var data = new Promise(resolve=>{\n",
        "#   button.onclick = ()=>{\n",
        "#     resolve(canvas.toDataURL('image/png'))\n",
        "#   }\n",
        "# })\n",
        "# </script>\n",
        "# \"\"\"\n",
        "\n",
        "# def draw(filename='drawing.png', w=400, h=200, line_width=1):\n",
        "#   display(HTML(canvas_html % (w, h, line_width)))\n",
        "#   data = eval_js(\"data\")\n",
        "#   binary = b64decode(data.split(',')[1])\n",
        "#   with open(filename, 'wb') as f:\n",
        "#     f.write(binary)"
      ],
      "execution_count": null,
      "outputs": []
    },
    {
      "cell_type": "code",
      "metadata": {
        "id": "X7LdCpj4vfFm"
      },
      "source": [
        "# import cv2\n",
        "# import numpy as np\n",
        "# from google.colab.patches import cv2_imshow\n",
        "# import pyscreenshot as ImageGrab\n",
        "\n",
        "# draw(line_width=10)\n",
        "# input_image = cv2.imread('drawing.png')\n",
        "# cv2_imshow(input_image)\n",
        "# #image = cv2.cvtColor(input_image, cv2.COLOR_BGR2GRAY)\n",
        "# #print(input_image[0])\n",
        "# #input_image = input_image.reshape(200, 28, 28, 1)\n",
        "# # cv2_imshow(image)\n",
        "# # for i in range(len(image)):\n",
        "# #   print(image[i])\n",
        "\n",
        "# im=ImageGrab.grab(bbox=(250, 500, 1000, 1000))\n",
        "\n",
        "# im.save('img.png')"
      ],
      "execution_count": null,
      "outputs": []
    },
    {
      "cell_type": "code",
      "metadata": {
        "id": "r1wfNDea9PAg",
        "colab": {
          "base_uri": "https://localhost:8080/",
          "height": 904
        },
        "outputId": "06293209-8c4a-4532-dbf0-79bc05260a6d"
      },
      "source": [
        "!pip install gradio"
      ],
      "execution_count": null,
      "outputs": [
        {
          "output_type": "stream",
          "text": [
            "Collecting gradio\n",
            "\u001b[?25l  Downloading https://files.pythonhosted.org/packages/d0/b4/cf2fa2706ae1ed73237331bed5aab0b94c4ce282d7f26539962d0a2259eb/gradio-1.0.7-py3-none-any.whl (1.4MB)\n",
            "\r\u001b[K     |▎                               | 10kB 15.1MB/s eta 0:00:01\r\u001b[K     |▌                               | 20kB 2.9MB/s eta 0:00:01\r\u001b[K     |▊                               | 30kB 3.6MB/s eta 0:00:01\r\u001b[K     |█                               | 40kB 3.8MB/s eta 0:00:01\r\u001b[K     |█▏                              | 51kB 3.4MB/s eta 0:00:01\r\u001b[K     |█▍                              | 61kB 3.7MB/s eta 0:00:01\r\u001b[K     |█▋                              | 71kB 4.2MB/s eta 0:00:01\r\u001b[K     |█▉                              | 81kB 4.3MB/s eta 0:00:01\r\u001b[K     |██                              | 92kB 4.7MB/s eta 0:00:01\r\u001b[K     |██▎                             | 102kB 4.6MB/s eta 0:00:01\r\u001b[K     |██▋                             | 112kB 4.6MB/s eta 0:00:01\r\u001b[K     |██▉                             | 122kB 4.6MB/s eta 0:00:01\r\u001b[K     |███                             | 133kB 4.6MB/s eta 0:00:01\r\u001b[K     |███▎                            | 143kB 4.6MB/s eta 0:00:01\r\u001b[K     |███▌                            | 153kB 4.6MB/s eta 0:00:01\r\u001b[K     |███▊                            | 163kB 4.6MB/s eta 0:00:01\r\u001b[K     |████                            | 174kB 4.6MB/s eta 0:00:01\r\u001b[K     |████▏                           | 184kB 4.6MB/s eta 0:00:01\r\u001b[K     |████▍                           | 194kB 4.6MB/s eta 0:00:01\r\u001b[K     |████▋                           | 204kB 4.6MB/s eta 0:00:01\r\u001b[K     |████▉                           | 215kB 4.6MB/s eta 0:00:01\r\u001b[K     |█████▏                          | 225kB 4.6MB/s eta 0:00:01\r\u001b[K     |█████▍                          | 235kB 4.6MB/s eta 0:00:01\r\u001b[K     |█████▋                          | 245kB 4.6MB/s eta 0:00:01\r\u001b[K     |█████▉                          | 256kB 4.6MB/s eta 0:00:01\r\u001b[K     |██████                          | 266kB 4.6MB/s eta 0:00:01\r\u001b[K     |██████▎                         | 276kB 4.6MB/s eta 0:00:01\r\u001b[K     |██████▌                         | 286kB 4.6MB/s eta 0:00:01\r\u001b[K     |██████▊                         | 296kB 4.6MB/s eta 0:00:01\r\u001b[K     |███████                         | 307kB 4.6MB/s eta 0:00:01\r\u001b[K     |███████▏                        | 317kB 4.6MB/s eta 0:00:01\r\u001b[K     |███████▍                        | 327kB 4.6MB/s eta 0:00:01\r\u001b[K     |███████▊                        | 337kB 4.6MB/s eta 0:00:01\r\u001b[K     |████████                        | 348kB 4.6MB/s eta 0:00:01\r\u001b[K     |████████▏                       | 358kB 4.6MB/s eta 0:00:01\r\u001b[K     |████████▍                       | 368kB 4.6MB/s eta 0:00:01\r\u001b[K     |████████▋                       | 378kB 4.6MB/s eta 0:00:01\r\u001b[K     |████████▉                       | 389kB 4.6MB/s eta 0:00:01\r\u001b[K     |█████████                       | 399kB 4.6MB/s eta 0:00:01\r\u001b[K     |█████████▎                      | 409kB 4.6MB/s eta 0:00:01\r\u001b[K     |█████████▌                      | 419kB 4.6MB/s eta 0:00:01\r\u001b[K     |█████████▊                      | 430kB 4.6MB/s eta 0:00:01\r\u001b[K     |██████████                      | 440kB 4.6MB/s eta 0:00:01\r\u001b[K     |██████████▎                     | 450kB 4.6MB/s eta 0:00:01\r\u001b[K     |██████████▌                     | 460kB 4.6MB/s eta 0:00:01\r\u001b[K     |██████████▊                     | 471kB 4.6MB/s eta 0:00:01\r\u001b[K     |███████████                     | 481kB 4.6MB/s eta 0:00:01\r\u001b[K     |███████████▏                    | 491kB 4.6MB/s eta 0:00:01\r\u001b[K     |███████████▍                    | 501kB 4.6MB/s eta 0:00:01\r\u001b[K     |███████████▋                    | 512kB 4.6MB/s eta 0:00:01\r\u001b[K     |███████████▉                    | 522kB 4.6MB/s eta 0:00:01\r\u001b[K     |████████████                    | 532kB 4.6MB/s eta 0:00:01\r\u001b[K     |████████████▎                   | 542kB 4.6MB/s eta 0:00:01\r\u001b[K     |████████████▌                   | 552kB 4.6MB/s eta 0:00:01\r\u001b[K     |████████████▉                   | 563kB 4.6MB/s eta 0:00:01\r\u001b[K     |█████████████                   | 573kB 4.6MB/s eta 0:00:01\r\u001b[K     |█████████████▎                  | 583kB 4.6MB/s eta 0:00:01\r\u001b[K     |█████████████▌                  | 593kB 4.6MB/s eta 0:00:01\r\u001b[K     |█████████████▊                  | 604kB 4.6MB/s eta 0:00:01\r\u001b[K     |██████████████                  | 614kB 4.6MB/s eta 0:00:01\r\u001b[K     |██████████████▏                 | 624kB 4.6MB/s eta 0:00:01\r\u001b[K     |██████████████▍                 | 634kB 4.6MB/s eta 0:00:01\r\u001b[K     |██████████████▋                 | 645kB 4.6MB/s eta 0:00:01\r\u001b[K     |██████████████▉                 | 655kB 4.6MB/s eta 0:00:01\r\u001b[K     |███████████████                 | 665kB 4.6MB/s eta 0:00:01\r\u001b[K     |███████████████▍                | 675kB 4.6MB/s eta 0:00:01\r\u001b[K     |███████████████▋                | 686kB 4.6MB/s eta 0:00:01\r\u001b[K     |███████████████▉                | 696kB 4.6MB/s eta 0:00:01\r\u001b[K     |████████████████                | 706kB 4.6MB/s eta 0:00:01\r\u001b[K     |████████████████▎               | 716kB 4.6MB/s eta 0:00:01\r\u001b[K     |████████████████▌               | 727kB 4.6MB/s eta 0:00:01\r\u001b[K     |████████████████▊               | 737kB 4.6MB/s eta 0:00:01\r\u001b[K     |█████████████████               | 747kB 4.6MB/s eta 0:00:01\r\u001b[K     |█████████████████▏              | 757kB 4.6MB/s eta 0:00:01\r\u001b[K     |█████████████████▍              | 768kB 4.6MB/s eta 0:00:01\r\u001b[K     |█████████████████▋              | 778kB 4.6MB/s eta 0:00:01\r\u001b[K     |██████████████████              | 788kB 4.6MB/s eta 0:00:01\r\u001b[K     |██████████████████▏             | 798kB 4.6MB/s eta 0:00:01\r\u001b[K     |██████████████████▍             | 808kB 4.6MB/s eta 0:00:01\r\u001b[K     |██████████████████▋             | 819kB 4.6MB/s eta 0:00:01\r\u001b[K     |██████████████████▉             | 829kB 4.6MB/s eta 0:00:01\r\u001b[K     |███████████████████             | 839kB 4.6MB/s eta 0:00:01\r\u001b[K     |███████████████████▎            | 849kB 4.6MB/s eta 0:00:01\r\u001b[K     |███████████████████▌            | 860kB 4.6MB/s eta 0:00:01\r\u001b[K     |███████████████████▊            | 870kB 4.6MB/s eta 0:00:01\r\u001b[K     |████████████████████            | 880kB 4.6MB/s eta 0:00:01\r\u001b[K     |████████████████████▏           | 890kB 4.6MB/s eta 0:00:01\r\u001b[K     |████████████████████▌           | 901kB 4.6MB/s eta 0:00:01\r\u001b[K     |████████████████████▊           | 911kB 4.6MB/s eta 0:00:01\r\u001b[K     |█████████████████████           | 921kB 4.6MB/s eta 0:00:01\r\u001b[K     |█████████████████████▏          | 931kB 4.6MB/s eta 0:00:01\r\u001b[K     |█████████████████████▍          | 942kB 4.6MB/s eta 0:00:01\r\u001b[K     |█████████████████████▋          | 952kB 4.6MB/s eta 0:00:01\r\u001b[K     |█████████████████████▉          | 962kB 4.6MB/s eta 0:00:01\r\u001b[K     |██████████████████████          | 972kB 4.6MB/s eta 0:00:01\r\u001b[K     |██████████████████████▎         | 983kB 4.6MB/s eta 0:00:01\r\u001b[K     |██████████████████████▌         | 993kB 4.6MB/s eta 0:00:01\r\u001b[K     |██████████████████████▊         | 1.0MB 4.6MB/s eta 0:00:01\r\u001b[K     |███████████████████████         | 1.0MB 4.6MB/s eta 0:00:01\r\u001b[K     |███████████████████████▎        | 1.0MB 4.6MB/s eta 0:00:01\r\u001b[K     |███████████████████████▌        | 1.0MB 4.6MB/s eta 0:00:01\r\u001b[K     |███████████████████████▊        | 1.0MB 4.6MB/s eta 0:00:01\r\u001b[K     |████████████████████████        | 1.1MB 4.6MB/s eta 0:00:01\r\u001b[K     |████████████████████████▏       | 1.1MB 4.6MB/s eta 0:00:01\r\u001b[K     |████████████████████████▍       | 1.1MB 4.6MB/s eta 0:00:01\r\u001b[K     |████████████████████████▋       | 1.1MB 4.6MB/s eta 0:00:01\r\u001b[K     |████████████████████████▉       | 1.1MB 4.6MB/s eta 0:00:01\r\u001b[K     |█████████████████████████       | 1.1MB 4.6MB/s eta 0:00:01\r\u001b[K     |█████████████████████████▎      | 1.1MB 4.6MB/s eta 0:00:01\r\u001b[K     |█████████████████████████▋      | 1.1MB 4.6MB/s eta 0:00:01\r\u001b[K     |█████████████████████████▉      | 1.1MB 4.6MB/s eta 0:00:01\r\u001b[K     |██████████████████████████      | 1.1MB 4.6MB/s eta 0:00:01\r\u001b[K     |██████████████████████████▎     | 1.2MB 4.6MB/s eta 0:00:01\r\u001b[K     |██████████████████████████▌     | 1.2MB 4.6MB/s eta 0:00:01\r\u001b[K     |██████████████████████████▊     | 1.2MB 4.6MB/s eta 0:00:01\r\u001b[K     |███████████████████████████     | 1.2MB 4.6MB/s eta 0:00:01\r\u001b[K     |███████████████████████████▏    | 1.2MB 4.6MB/s eta 0:00:01\r\u001b[K     |███████████████████████████▍    | 1.2MB 4.6MB/s eta 0:00:01\r\u001b[K     |███████████████████████████▋    | 1.2MB 4.6MB/s eta 0:00:01\r\u001b[K     |███████████████████████████▉    | 1.2MB 4.6MB/s eta 0:00:01\r\u001b[K     |████████████████████████████▏   | 1.2MB 4.6MB/s eta 0:00:01\r\u001b[K     |████████████████████████████▍   | 1.2MB 4.6MB/s eta 0:00:01\r\u001b[K     |████████████████████████████▋   | 1.3MB 4.6MB/s eta 0:00:01\r\u001b[K     |████████████████████████████▉   | 1.3MB 4.6MB/s eta 0:00:01\r\u001b[K     |█████████████████████████████   | 1.3MB 4.6MB/s eta 0:00:01\r\u001b[K     |█████████████████████████████▎  | 1.3MB 4.6MB/s eta 0:00:01\r\u001b[K     |█████████████████████████████▌  | 1.3MB 4.6MB/s eta 0:00:01\r\u001b[K     |█████████████████████████████▊  | 1.3MB 4.6MB/s eta 0:00:01\r\u001b[K     |██████████████████████████████  | 1.3MB 4.6MB/s eta 0:00:01\r\u001b[K     |██████████████████████████████▏ | 1.3MB 4.6MB/s eta 0:00:01\r\u001b[K     |██████████████████████████████▍ | 1.3MB 4.6MB/s eta 0:00:01\r\u001b[K     |██████████████████████████████▊ | 1.4MB 4.6MB/s eta 0:00:01\r\u001b[K     |███████████████████████████████ | 1.4MB 4.6MB/s eta 0:00:01\r\u001b[K     |███████████████████████████████▏| 1.4MB 4.6MB/s eta 0:00:01\r\u001b[K     |███████████████████████████████▍| 1.4MB 4.6MB/s eta 0:00:01\r\u001b[K     |███████████████████████████████▋| 1.4MB 4.6MB/s eta 0:00:01\r\u001b[K     |███████████████████████████████▉| 1.4MB 4.6MB/s eta 0:00:01\r\u001b[K     |████████████████████████████████| 1.4MB 4.6MB/s \n",
            "\u001b[?25hCollecting analytics-python\n",
            "  Downloading https://files.pythonhosted.org/packages/d3/37/c49d052f88655cd96445c36979fb63f69ef859e167eaff5706ca7c8a8ee3/analytics_python-1.2.9-py2.py3-none-any.whl\n",
            "Requirement already satisfied: requests in /usr/local/lib/python3.6/dist-packages (from gradio) (2.23.0)\n",
            "Requirement already satisfied: numpy in /usr/local/lib/python3.6/dist-packages (from gradio) (1.18.5)\n",
            "Requirement already satisfied: scipy in /usr/local/lib/python3.6/dist-packages (from gradio) (1.4.1)\n",
            "Requirement already satisfied: scikit-image in /usr/local/lib/python3.6/dist-packages (from gradio) (0.16.2)\n",
            "Collecting paramiko\n",
            "\u001b[?25l  Downloading https://files.pythonhosted.org/packages/06/1e/1e08baaaf6c3d3df1459fd85f0e7d2d6aa916f33958f151ee1ecc9800971/paramiko-2.7.1-py2.py3-none-any.whl (206kB)\n",
            "\r\u001b[K     |█▋                              | 10kB 25.1MB/s eta 0:00:01\r\u001b[K     |███▏                            | 20kB 33.9MB/s eta 0:00:01\r\u001b[K     |████▊                           | 30kB 41.7MB/s eta 0:00:01\r\u001b[K     |██████▍                         | 40kB 32.9MB/s eta 0:00:01\r\u001b[K     |████████                        | 51kB 34.9MB/s eta 0:00:01\r\u001b[K     |█████████▌                      | 61kB 38.3MB/s eta 0:00:01\r\u001b[K     |███████████                     | 71kB 31.4MB/s eta 0:00:01\r\u001b[K     |████████████▊                   | 81kB 33.3MB/s eta 0:00:01\r\u001b[K     |██████████████▎                 | 92kB 28.5MB/s eta 0:00:01\r\u001b[K     |███████████████▉                | 102kB 30.2MB/s eta 0:00:01\r\u001b[K     |█████████████████▍              | 112kB 30.2MB/s eta 0:00:01\r\u001b[K     |███████████████████             | 122kB 30.2MB/s eta 0:00:01\r\u001b[K     |████████████████████▋           | 133kB 30.2MB/s eta 0:00:01\r\u001b[K     |██████████████████████▏         | 143kB 30.2MB/s eta 0:00:01\r\u001b[K     |███████████████████████▊        | 153kB 30.2MB/s eta 0:00:01\r\u001b[K     |█████████████████████████▍      | 163kB 30.2MB/s eta 0:00:01\r\u001b[K     |███████████████████████████     | 174kB 30.2MB/s eta 0:00:01\r\u001b[K     |████████████████████████████▌   | 184kB 30.2MB/s eta 0:00:01\r\u001b[K     |██████████████████████████████  | 194kB 30.2MB/s eta 0:00:01\r\u001b[K     |███████████████████████████████▊| 204kB 30.2MB/s eta 0:00:01\r\u001b[K     |████████████████████████████████| 215kB 30.2MB/s \n",
            "\u001b[?25hRequirement already satisfied: IPython in /usr/local/lib/python3.6/dist-packages (from gradio) (5.5.0)\n",
            "Requirement already satisfied: python-dateutil>2.1 in /usr/local/lib/python3.6/dist-packages (from analytics-python->gradio) (2.8.1)\n",
            "Requirement already satisfied: six>=1.5 in /usr/local/lib/python3.6/dist-packages (from analytics-python->gradio) (1.15.0)\n",
            "Requirement already satisfied: idna<3,>=2.5 in /usr/local/lib/python3.6/dist-packages (from requests->gradio) (2.10)\n",
            "Requirement already satisfied: chardet<4,>=3.0.2 in /usr/local/lib/python3.6/dist-packages (from requests->gradio) (3.0.4)\n",
            "Requirement already satisfied: certifi>=2017.4.17 in /usr/local/lib/python3.6/dist-packages (from requests->gradio) (2020.6.20)\n",
            "Requirement already satisfied: urllib3!=1.25.0,!=1.25.1,<1.26,>=1.21.1 in /usr/local/lib/python3.6/dist-packages (from requests->gradio) (1.24.3)\n",
            "Requirement already satisfied: imageio>=2.3.0 in /usr/local/lib/python3.6/dist-packages (from scikit-image->gradio) (2.4.1)\n",
            "Requirement already satisfied: networkx>=2.0 in /usr/local/lib/python3.6/dist-packages (from scikit-image->gradio) (2.4)\n",
            "Requirement already satisfied: pillow>=4.3.0 in /usr/local/lib/python3.6/dist-packages (from scikit-image->gradio) (7.0.0)\n",
            "Requirement already satisfied: PyWavelets>=0.4.0 in /usr/local/lib/python3.6/dist-packages (from scikit-image->gradio) (1.1.1)\n",
            "Requirement already satisfied: matplotlib!=3.0.0,>=2.0.0 in /usr/local/lib/python3.6/dist-packages (from scikit-image->gradio) (3.2.2)\n",
            "Collecting pynacl>=1.0.1\n",
            "\u001b[?25l  Downloading https://files.pythonhosted.org/packages/9d/57/2f5e6226a674b2bcb6db531e8b383079b678df5b10cdaa610d6cf20d77ba/PyNaCl-1.4.0-cp35-abi3-manylinux1_x86_64.whl (961kB)\n",
            "\u001b[K     |████████████████████████████████| 962kB 29.5MB/s \n",
            "\u001b[?25hCollecting bcrypt>=3.1.3\n",
            "\u001b[?25l  Downloading https://files.pythonhosted.org/packages/8b/1d/82826443777dd4a624e38a08957b975e75df859b381ae302cfd7a30783ed/bcrypt-3.1.7-cp34-abi3-manylinux1_x86_64.whl (56kB)\n",
            "\u001b[K     |████████████████████████████████| 61kB 8.8MB/s \n",
            "\u001b[?25hCollecting cryptography>=2.5\n",
            "\u001b[?25l  Downloading https://files.pythonhosted.org/packages/ba/91/84a29d6a27fd6dfc21f475704c4d2053d58ed7a4033c2b0ce1b4ca4d03d9/cryptography-3.0-cp35-abi3-manylinux2010_x86_64.whl (2.7MB)\n",
            "\u001b[K     |████████████████████████████████| 2.7MB 42.6MB/s \n",
            "\u001b[?25hRequirement already satisfied: setuptools>=18.5 in /usr/local/lib/python3.6/dist-packages (from IPython->gradio) (49.2.0)\n",
            "Requirement already satisfied: decorator in /usr/local/lib/python3.6/dist-packages (from IPython->gradio) (4.4.2)\n",
            "Requirement already satisfied: traitlets>=4.2 in /usr/local/lib/python3.6/dist-packages (from IPython->gradio) (4.3.3)\n",
            "Requirement already satisfied: simplegeneric>0.8 in /usr/local/lib/python3.6/dist-packages (from IPython->gradio) (0.8.1)\n",
            "Requirement already satisfied: pygments in /usr/local/lib/python3.6/dist-packages (from IPython->gradio) (2.1.3)\n",
            "Requirement already satisfied: pexpect; sys_platform != \"win32\" in /usr/local/lib/python3.6/dist-packages (from IPython->gradio) (4.8.0)\n",
            "Requirement already satisfied: pickleshare in /usr/local/lib/python3.6/dist-packages (from IPython->gradio) (0.7.5)\n",
            "Requirement already satisfied: prompt-toolkit<2.0.0,>=1.0.4 in /usr/local/lib/python3.6/dist-packages (from IPython->gradio) (1.0.18)\n",
            "Requirement already satisfied: kiwisolver>=1.0.1 in /usr/local/lib/python3.6/dist-packages (from matplotlib!=3.0.0,>=2.0.0->scikit-image->gradio) (1.2.0)\n",
            "Requirement already satisfied: cycler>=0.10 in /usr/local/lib/python3.6/dist-packages (from matplotlib!=3.0.0,>=2.0.0->scikit-image->gradio) (0.10.0)\n",
            "Requirement already satisfied: pyparsing!=2.0.4,!=2.1.2,!=2.1.6,>=2.0.1 in /usr/local/lib/python3.6/dist-packages (from matplotlib!=3.0.0,>=2.0.0->scikit-image->gradio) (2.4.7)\n",
            "Requirement already satisfied: cffi>=1.4.1 in /usr/local/lib/python3.6/dist-packages (from pynacl>=1.0.1->paramiko->gradio) (1.14.1)\n",
            "Requirement already satisfied: ipython-genutils in /usr/local/lib/python3.6/dist-packages (from traitlets>=4.2->IPython->gradio) (0.2.0)\n",
            "Requirement already satisfied: ptyprocess>=0.5 in /usr/local/lib/python3.6/dist-packages (from pexpect; sys_platform != \"win32\"->IPython->gradio) (0.6.0)\n",
            "Requirement already satisfied: wcwidth in /usr/local/lib/python3.6/dist-packages (from prompt-toolkit<2.0.0,>=1.0.4->IPython->gradio) (0.2.5)\n",
            "Requirement already satisfied: pycparser in /usr/local/lib/python3.6/dist-packages (from cffi>=1.4.1->pynacl>=1.0.1->paramiko->gradio) (2.20)\n",
            "Installing collected packages: analytics-python, pynacl, bcrypt, cryptography, paramiko, gradio\n",
            "Successfully installed analytics-python-1.2.9 bcrypt-3.1.7 cryptography-3.0 gradio-1.0.7 paramiko-2.7.1 pynacl-1.4.0\n"
          ],
          "name": "stdout"
        }
      ]
    },
    {
      "cell_type": "code",
      "metadata": {
        "id": "B5nKXYtA9QpX",
        "colab": {
          "base_uri": "https://localhost:8080/",
          "height": 623
        },
        "outputId": "d2825ce2-61e0-4473-ba3a-954fa633ca40"
      },
      "source": [
        "import gradio as gr\n",
        "def classify(image):\n",
        "    prediction = model.predict(image).tolist()[0]\n",
        "    return {str(i): prediction[i] for i in range(10)}\n",
        "sketchpad = gr.inputs.Sketchpad()\n",
        "label = gr.outputs.Label(num_top_classes=3)\n",
        "interface = gr.Interface(classify, sketchpad, label, live=True, capture_session=True)\n",
        "\n",
        "interface.launch()"
      ],
      "execution_count": null,
      "outputs": [
        {
          "output_type": "stream",
          "text": [
            "Colab notebook detected. To show errors in colab notebook, set debug=True in launch()\n",
            "Running on External URL: https://19559.gradio.app\n",
            "Interface loading below...\n"
          ],
          "name": "stdout"
        },
        {
          "output_type": "display_data",
          "data": {
            "text/html": [
              "\n",
              "        <iframe\n",
              "            width=\"1000\"\n",
              "            height=\"500\"\n",
              "            src=\"https://19559.gradio.app\"\n",
              "            frameborder=\"0\"\n",
              "            allowfullscreen\n",
              "        ></iframe>\n",
              "        "
            ],
            "text/plain": [
              "<IPython.lib.display.IFrame at 0x7fbdbc7beac8>"
            ]
          },
          "metadata": {
            "tags": []
          }
        },
        {
          "output_type": "execute_result",
          "data": {
            "text/plain": [
              "(<gradio.networking.serve_files_in_background.<locals>.HTTPServer at 0x7fbdd61cfc18>,\n",
              " 'http://127.0.0.1:7860/',\n",
              " 'https://19559.gradio.app')"
            ]
          },
          "metadata": {
            "tags": []
          },
          "execution_count": 22
        }
      ]
    }
  ]
}